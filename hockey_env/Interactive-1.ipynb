{
 "cells": [
  {
   "cell_type": "markdown",
   "metadata": {},
   "source": [
    "Connected to Python"
   ]
  },
  {
   "cell_type": "code",
   "execution_count": null,
   "id": "b717cc6b-27a7-4c41-8cc0-992e2a3d7f35",
   "metadata": {},
   "outputs": [],
   "source": [
    "import pandas as pd\n",
    "\n",
    "# Read all sheets into a dictionary of DataFrames\n",
    "file_path = \"C:\\\\Users\\\\kjcs2\\\\Desktop\\\\Jobs\\\\Abode\\\\abode_env\\\\abode_env\\\\Hancock Reconciliation Tool V1.xlsx\"\n",
    "\n",
    "sheets_dict = pd.read_excel(file_path, sheet_name=None)\n",
    "\n",
    "# Access each sheet by its name\n",
    "df_sheet1 = sheets_dict[\"HPC Cumulative Payments\"]\n",
    "df_sheet2 = sheets_dict[\"EVS - TrackSys\"]\n",
    "df_sheet3 = sheets_dict[\"NGRID - InDemand\"]\n",
    "\n",
    "df_sheet1.head()"
   ]
  },
  {
   "cell_type": "markdown",
   "metadata": {},
   "source": [
    "Restarted Python"
   ]
  }
 ],
 "metadata": {
  "kernelspec": {
   "display_name": "Python 3",
   "language": "python",
   "name": "python3"
  },
  "language_info": {
   "name": "python",
   "version": "3.12.4"
  }
 },
 "nbformat": 4,
 "nbformat_minor": 2
}
