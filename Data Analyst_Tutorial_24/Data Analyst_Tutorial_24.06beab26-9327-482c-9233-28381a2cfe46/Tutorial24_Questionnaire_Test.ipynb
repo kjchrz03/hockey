{
 "cells": [
  {
   "cell_type": "markdown",
   "id": "3b9715e6",
   "metadata": {},
   "source": [
    "# Introduction"
   ]
  },
  {
   "cell_type": "markdown",
   "id": "7a482ac9",
   "metadata": {},
   "source": [
    "Important Info:\n",
    "\n",
    "Hi and welcome to the Sportlogiq DA Questionnaire! The goal with this is to assess your problem solving, hockey knowledge, attention to detail, coding/stats abilities and your (hopeful) fit with many of our day-to-day tasks. **Please ensure your csv answer sheet is completed and sent back to us along with this filled in notebook**. The csv will be the first thing we check to grade your work, but if you find yourself stuck or unsure on a question, showing your work here and explaining your problem solving/decision making in this notebook is highly recommended.\n",
    "\n",
    "Libraries:\n",
    "- You'll want to import libraries such as numpy, pandas, a plotting library like plotly/matplotlib, and a stats library of your choosing (sklearn for example)\n",
    "\n",
    "Data Info:\n",
    "- There are two data files & a rink template for scatter plots. One data file has a condensed event set from a randomly chosen hockey game and the other contains Expected Goals values (xG) to be merged onto shot attempts in the game. **If an xG value does not correspond to a shot event, it should not be counted**\n",
    "\n",
    "- X and Y Coordinates are in Feet and are adjusted such that both teams attack from left (dz) to right (oz)\n",
    "    - X values range from -100 (end boards behind the DZ net) to 0 (centre ice) and 100 (end boards behind the OZ net)\n",
    "    - Y values range from -42.5 (west side boards) to 0 (centre ice) and 42.5 (east side boards)\n",
    "    - **When creating scatter plots, please use these coordinates along with the provided rink_template to display the full rink**\n",
    "\n",
    "- Binary columns that have values of 0 or 1 indicate 0=No, 1=Yes\n",
    "\n",
    "- Successfull passes are completed passes, successful shots are shots on net\n",
    "\n",
    "- If \"DZ\" or \"NZ\" are included in a playsection, it is not part of the Offensive Zone\n",
    "\n",
    "- \"All strengths\" refers to **all manpowersituations**, as opposed to limiting to even strength, powerplay, or shorthanded situations\n",
    "\n",
    "- Compiledgametime is in seconds, periods are 20 minutes long, except for overtime which is 5 minutes or less\n",
    "\n",
    "- **Please round all answers with decimals to 1 decimal point unless otherwise specified**\n",
    "\n",
    "Please show all work in this notebook, **keep written answers succinct and to the point** and most of all, thanks for your time and good luck!"
   ]
  },
  {
   "cell_type": "markdown",
   "id": "76a61952",
   "metadata": {},
   "source": [
    "## Q1) \n",
    "### a) Which teamid won the game?\n",
    "### b) How many goals did the winning team score? \n",
    "### c) Which period was the winning goal scored in?\n",
    "### d) Limited to the period answered in c), how many shot attempts did the winning team have that were blocked?\n",
    "### e) Create a scatter plot for all of the winning team's shot attempts limited to the period answered in c) and highlight the winning goal in a different colour."
   ]
  },
  {
   "cell_type": "markdown",
   "id": "10b879a4",
   "metadata": {},
   "source": [
    "## A1)\n",
    "### a)\n",
    "### b)\n",
    "### c)\n",
    "### d)\n",
    "### e)"
   ]
  },
  {
   "cell_type": "markdown",
   "id": "67f2e9a6",
   "metadata": {},
   "source": [
    "## Q2)\n",
    "\n",
    "### a) Which playerid scored the winning goal? \n",
    "### b) How many shot attempts did this player have on the powerplay for the full game? \n",
    "### c) Create a scatter plot for all of this player's powerplay shot attempts for the full game.\n",
    "### d) If we told you these were Alex Ovechkin's powerplay shot attempts, what would you need to do to the Y coordinates for these attempts to appear from \"Ovi's Office\"? \n",
    "### e) Please re-create the scatter plot accordingly."
   ]
  },
  {
   "cell_type": "markdown",
   "id": "e7795115",
   "metadata": {},
   "source": [
    "## A2)\n",
    "### a)\n",
    "### b)\n",
    "### c)\n",
    "### d)\n",
    "### e)"
   ]
  },
  {
   "cell_type": "markdown",
   "id": "3ceee930",
   "metadata": {},
   "source": [
    "## Q3)\n",
    "### a) Build a visual to display the following information for the Assistant Coach in a clear and digestible way: What was the even strength pass completion rate for each team broken down by zone? (please use the zone of pass origin)\n",
    "### b) From this visual, what was teamid 315's even strength pass completion rate in the offensive zone?\n",
    "### c) Which zone was most challenging to complete passes in at even strength? \n",
    "### d) What was teamid 311's all strengths slot save percentage? (The slot includes innerSlot, westOuterSlot, & eastOuterSlot. Please format this answer as X.XXX)"
   ]
  },
  {
   "cell_type": "markdown",
   "id": "6c191162",
   "metadata": {},
   "source": [
    "## A3) \n",
    "### a)\n",
    "### b)\n",
    "### c)\n",
    "### d)"
   ]
  },
  {
   "cell_type": "markdown",
   "id": "bd50c34d",
   "metadata": {},
   "source": [
    "## Q4)\n",
    "### a) Assuming the centre of the net is at X=89 (goal line), Y=0 (centre ice), what was the all strengths average shot distance to the centre of the net for teamid 315's shots on goal from the outside north west playsection?\n",
    "### b) What was teamid 315's all strengths Goals Saved Above Expected from the outside north west playsection? (please format as X.XX) \n",
    "### c) What does this tell us about their performance from this area?"
   ]
  },
  {
   "cell_type": "markdown",
   "id": "20941a95",
   "metadata": {},
   "source": [
    "## A4)\n",
    "### a)\n",
    "\n",
    "### b)\n",
    "\n",
    "### c)"
   ]
  },
  {
   "cell_type": "markdown",
   "id": "7fd43684",
   "metadata": {},
   "source": [
    "## Q5)\n",
    "### a) If a \"Shot Assist\" is defined as a sequence of events where there is: 1) a successful pass followed by 2) a successful reception *by a teammate* and then without giving up the puck 3) the receiving player has a shot attempt, create a column flagging shots that have a Shot Assist. How many all strengths shot attempts did playerid 79380 have that were assisted?\n",
    "### b) Assume the full xG value from the shot attempt can be credited to the passer for their shot assist, which *passer id* created the most xG via shot assists for their teammates?\n",
    "### c) Plot a single diagram of this passer's shot assists (pass to the shooting player's reception) and the corresponding shots (shooter's reception to their shot). Hint: Don't forget what you learned in Q2d) about plotting Y coordinates.\n",
    "### d) For shooters who had more than 1 shot attempt that was assisted, what was the longest average time from their receptions to their shots?\n",
    "### e) Which playerid had the longest average time answered in d)?"
   ]
  },
  {
   "cell_type": "markdown",
   "id": "c60cf07b",
   "metadata": {},
   "source": [
    "## A5)\n",
    "### a)\n",
    "### b)\n",
    "### c)\n",
    "### d)\n",
    "### e)"
   ]
  },
  {
   "cell_type": "markdown",
   "id": "af244509",
   "metadata": {},
   "source": [
    "## Q6)\n",
    "### a) Which teamid won the all strengths xG battle?\n",
    "### b) What was the losing team's all strengths xG? (round to X.XX)\n",
    "### c) Based on the answers in a) and b), what does this tell you about how the game went?"
   ]
  },
  {
   "cell_type": "markdown",
   "id": "5a0127ef",
   "metadata": {},
   "source": [
    "## A6)\n",
    "### a)\n",
    "### b)\n",
    "### c)"
   ]
  },
  {
   "cell_type": "markdown",
   "id": "78a1e7c5",
   "metadata": {},
   "source": [
    "## Q7) \n",
    "### With the information provided in the data files and the columns you've been asked to create in the questions above, are there other features you can build to help create an xG model? Please create these features. \n",
    "### a) Using a statistical technique of your choice, show the highest predictors of a goal within your feature set. For your answer, clearly list your xG predictors in a python list from most predictive to least, for example: ['highest', 'middle', 'lowest'].\n",
    "### b) Please explain why you chose the statistical technique in 7a) and at a high level (as if you were talking to a non-technical Assistant Coach) please provide a short form explanation of your results in 7a) and recommendations for the coach.\n",
    "### c) If you had full seasons worth of shot event data, what are the top 3 model algorithms you would test for building an xG model? Please present these in the same python list format as 7a), for example: ['1st choice', '2nd choice', '3rd choice']\n",
    "### d) Please explain the reasoning for your choices in 7c) in short answer form."
   ]
  },
  {
   "cell_type": "markdown",
   "id": "16fba9ea",
   "metadata": {},
   "source": [
    "## A7)\n",
    "### a)\n",
    "### b)\n",
    "### c)\n",
    "### d)"
   ]
  },
  {
   "cell_type": "markdown",
   "id": "36b41066",
   "metadata": {},
   "source": [
    "## Q8) Questions not related to this dataset to assess your familiarity with current hockey news:\n",
    "### a) For the 2024 NHL draft, outside of the 1st round, who was the best value draft pick in your opinion? (please put the player's first and last name as your answer)\n",
    "### b) Please explain the reasoning for your answer in 8a)\n",
    "### c) In your opinion, which NHL contract signed on July 1st, 2024 will provide the *least* value to their team? (please put the player's first and last name as your answer)\n",
    "### d) Please explain the reasoning for your answer in 8c)\n",
    "### e) If you were building predictions (let's say for a betting website), how would you predict the number of shot attempts Alex Ovechkin is likely to have on a given night?\n",
    "### f) In your opinion, who was the best defender for the inaugural 2023-24 PWHL season?\n",
    "### g) Please explain the reasoning for your answer in 8f)"
   ]
  },
  {
   "cell_type": "markdown",
   "id": "b1364f5c",
   "metadata": {},
   "source": [
    "## A8)\n",
    "### a)\n",
    "### b)\n",
    "### c)\n",
    "### d)\n",
    "### e)\n",
    "### f)\n",
    "### g)"
   ]
  },
  {
   "cell_type": "markdown",
   "id": "720c25a5",
   "metadata": {},
   "source": [
    "# Before you submit:"
   ]
  },
  {
   "cell_type": "markdown",
   "id": "5ef70791",
   "metadata": {},
   "source": [
    "Please check that you have answered all questions to the best of your ability and in the proper formats in the **csv answer sheet and that every answer can be clearly traced back to work that is shown in this notebook**. If you were unable to produce an answer, please describe and show the work you tried.\n",
    "\n",
    "Thanks for your time, effort and interest and we hope you enjoyed this exercise!"
   ]
  }
 ],
 "metadata": {
  "kernelspec": {
   "display_name": "Python 3 (ipykernel)",
   "language": "python",
   "name": "python3"
  },
  "language_info": {
   "codemirror_mode": {
    "name": "ipython",
    "version": 3
   },
   "file_extension": ".py",
   "mimetype": "text/x-python",
   "name": "python",
   "nbconvert_exporter": "python",
   "pygments_lexer": "ipython3",
   "version": "3.9.5"
  }
 },
 "nbformat": 4,
 "nbformat_minor": 5
}
